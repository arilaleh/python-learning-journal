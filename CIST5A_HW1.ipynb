{
  "cells": [
    {
      "cell_type": "markdown",
      "metadata": {
        "id": "view-in-github",
        "colab_type": "text"
      },
      "source": [
        "<a href=\"https://colab.research.google.com/github/arilaleh/python-learning-journal/blob/main/CIST5A_HW1.ipynb\" target=\"_parent\"><img src=\"https://colab.research.google.com/assets/colab-badge.svg\" alt=\"Open In Colab\"/></a>"
      ]
    },
    {
      "cell_type": "markdown",
      "id": "191a475a",
      "metadata": {
        "id": "191a475a"
      },
      "source": [
        "\n",
        "# Homework: Introduction to Python\n",
        "\n",
        "In this homework assignment, you'll practice what you've learned so far: variables, types, operators, errors, and print statements. Complete each part and submit your notebook when you're done.\n",
        "\n",
        "**Instructions:**\n",
        "- Write your code in the provided cells.\n",
        "- Run each cell to check your results.\n",
        "- Submit your completed notebook by the due date.\n"
      ]
    },
    {
      "cell_type": "markdown",
      "id": "1a66deb5",
      "metadata": {
        "id": "1a66deb5"
      },
      "source": [
        "\n",
        "## Part 1: Variables and Types\n",
        "\n",
        "### Exercise 1\n",
        "Create variables of the following types: `int`, `float`, and `str`. Assign any values you like to them and print each one.\n"
      ]
    },
    {
      "cell_type": "code",
      "source": [
        "#Integer variable\n",
        "myInt = 8\n",
        "\n",
        "# Float variable\n",
        "myFloat = 5.0\n",
        "\n",
        "# String variable\n",
        "myStr = \"college\"\n",
        "\n",
        "#Print each variable\n",
        "print(myInt)\n",
        "print(myFloat)\n",
        "print(myStr)\n"
      ],
      "metadata": {
        "id": "lyl__MZGvkzb",
        "colab": {
          "base_uri": "https://localhost:8080/"
        },
        "outputId": "c0f652e9-a9d0-4cb7-a5a5-fcb8e25621ed"
      },
      "id": "lyl__MZGvkzb",
      "execution_count": 38,
      "outputs": [
        {
          "output_type": "stream",
          "name": "stdout",
          "text": [
            "8\n",
            "5.0\n",
            "college\n"
          ]
        }
      ]
    },
    {
      "cell_type": "markdown",
      "id": "48c9443a",
      "metadata": {
        "id": "48c9443a"
      },
      "source": [
        "\n",
        "### Exercise 2\n",
        "The following code contains errors. Identify and correct them.\n"
      ]
    },
    {
      "cell_type": "code",
      "source": [
        "\n",
        "# The code below has errors. Fix them.\n",
        "\n",
        "#Removed underscores from variable names to follow common Python naming practices.\n",
        "\n",
        "#myNumber is currently a string\n",
        "myNumber = \"10\"\n",
        "\n",
        "#myFloat is a float\n",
        "myFloat = 5.0\n",
        "\n",
        "# myNumber cannot be directly added to myFloat because they are of different data types (string and float).\n",
        "# Convert myNumber to a float so it can be added to myFloat without causing an error.\n",
        "result = float(myNumber) + myFloat\n",
        "\n",
        "# Convert result to a string so it can be combined with the text in the print statement. This is necessary because you can only combine data of the same type.\n",
        "print(\"The result is: \" + str(result))\n"
      ],
      "metadata": {
        "id": "SvF8gutvvnZD",
        "colab": {
          "base_uri": "https://localhost:8080/"
        },
        "outputId": "bf9021c6-2cb3-4741-e8df-e14d42155e74"
      },
      "id": "SvF8gutvvnZD",
      "execution_count": 41,
      "outputs": [
        {
          "output_type": "stream",
          "name": "stdout",
          "text": [
            "The result is: 15.0\n"
          ]
        }
      ]
    },
    {
      "cell_type": "markdown",
      "id": "a3c015b6",
      "metadata": {
        "id": "a3c015b6"
      },
      "source": [
        "\n",
        "## Part 2: Operators\n",
        "\n",
        "### Exercise 3\n",
        "Perform the following arithmetic operations and print the results:\n",
        "1. Addition of two numbers.\n",
        "2. Subtraction of one number from another.\n",
        "3. Multiplication of two numbers.\n",
        "4. Division of one number by another.\n"
      ]
    },
    {
      "cell_type": "code",
      "source": [
        "#Define the variables\n",
        "x = 3\n",
        "y = 5\n",
        "\n",
        "#Addition of two numbers\n",
        "print(x + y)\n",
        "\n",
        "#Subtraction of one number from another.\n",
        "print(y - x)\n",
        "\n",
        "#Multiplication of two numbers\n",
        "print(x * y)\n",
        "\n",
        "#Division of one number by another.\n",
        "print(y / x)"
      ],
      "metadata": {
        "id": "zamuhw5Nvqzz",
        "colab": {
          "base_uri": "https://localhost:8080/"
        },
        "outputId": "6465d366-9bc0-4920-a882-fd9dcf92d0ce"
      },
      "id": "zamuhw5Nvqzz",
      "execution_count": 43,
      "outputs": [
        {
          "output_type": "stream",
          "name": "stdout",
          "text": [
            "8\n",
            "2\n",
            "15\n",
            "1.6666666666666667\n"
          ]
        }
      ]
    },
    {
      "cell_type": "markdown",
      "id": "f980daed",
      "metadata": {
        "id": "f980daed"
      },
      "source": [
        "\n",
        "### Exercise 4\n",
        "Use comparison and logical operators to evaluate the following expressions and print the results:\n",
        "1. Is 10 greater than 5?\n",
        "2. Is 3 less than or equal to 3?\n",
        "3. Is 7 equal to 8?\n",
        "4. Is 5 greater than 3 and 2 less than 4?\n"
      ]
    },
    {
      "cell_type": "code",
      "source": [
        "#Is 10 greater than 5?\n",
        "print(10 > 5)\n",
        "\n",
        "#Is 3 less than or equal to 3?\n",
        "print(3 <= 3)\n",
        "\n",
        "#Is 7 equal to 8?\n",
        "print(7 == 8)\n",
        "\n",
        "#Is 5 greater than 3 and 2 less than 4?\n",
        "print(5 > 3 and 2 < 4)"
      ],
      "metadata": {
        "id": "XppOrgdkvsek",
        "colab": {
          "base_uri": "https://localhost:8080/"
        },
        "outputId": "e904f1a6-2370-472e-b6e0-7112ba14a805"
      },
      "id": "XppOrgdkvsek",
      "execution_count": 14,
      "outputs": [
        {
          "output_type": "stream",
          "name": "stdout",
          "text": [
            "True\n",
            "True\n",
            "False\n",
            "True\n"
          ]
        }
      ]
    },
    {
      "cell_type": "markdown",
      "id": "2d983229",
      "metadata": {
        "id": "2d983229"
      },
      "source": [
        "\n",
        "## Part 3: Errors and Debugging\n",
        "\n",
        "### Exercise 5\n",
        "The following code contains syntax and runtime errors. Identify and correct them.\n"
      ]
    },
    {
      "cell_type": "code",
      "source": [
        "\n",
        "# The code below has errors. Fix them.\n",
        "\n",
        "#I closed the space between between \"my\" and \"variable\" since variable names cannot have spaces. I also removed the semi-colon after \"This is my first string\" as semi-colons are not needed in Python.\n",
        "myVariable = \"This is my first string\"\n",
        "\n",
        "#I changed the variable name \"2remove\" to \"twoRemove\" because variable names cannot start with numbers. I also removed the semicolon after \" first.\"\n",
        "twoRemove = \" first\"\n",
        "\n",
        "#I closed the space between \"final\" and \"String\" since variable names cannot have spaces. I also removed the semi-colon.\n",
        "#Subtraction cannot be done on strings, so I used the slicing method to remove \" first.\"\n",
        "#Used slicing to manually remove \" first\" by taking characters before and after the substring.\n",
        "finalString = myVariable[0:10] + myVariable[16:]\n",
        "\n",
        "#Print the final string after removing \" first.\"\n",
        "print(finalString)\n"
      ],
      "metadata": {
        "id": "j4_bjx1dvuiZ",
        "colab": {
          "base_uri": "https://localhost:8080/"
        },
        "outputId": "778ff4da-1e2b-4b00-9c7f-b119b9e4a96f"
      },
      "id": "j4_bjx1dvuiZ",
      "execution_count": 46,
      "outputs": [
        {
          "output_type": "stream",
          "name": "stdout",
          "text": [
            "This is my string\n"
          ]
        }
      ]
    },
    {
      "cell_type": "markdown",
      "id": "d518bb80",
      "metadata": {
        "id": "d518bb80"
      },
      "source": [
        "\n",
        "## Part 4: Print Statements\n",
        "\n",
        "### Exercise 6\n",
        "Use print statements to display the following:\n",
        "1. A string that says \"Hello, World!\"\n",
        "2. A formatted string that includes the values of two variables.\n"
      ]
    },
    {
      "cell_type": "code",
      "source": [
        "#Print a string that says \"Hello, World!\"\n",
        "print(\"\\\"Hello, World!\\\"\")\n",
        "\n",
        "#Define two variables\n",
        "variable1 = 5\n",
        "variable2 = 8\n",
        "\n",
        "#Print a formatted string that includes the values of the two variables\n",
        "print(\"The value of variable1 is \" + str(variable1) + \" and the value of variable2 is \" + str(variable2) + \".\")"
      ],
      "metadata": {
        "id": "PGuvP7m3w172",
        "colab": {
          "base_uri": "https://localhost:8080/"
        },
        "outputId": "736e8db1-269c-4f84-bbf0-41c8e0112e0f"
      },
      "id": "PGuvP7m3w172",
      "execution_count": 49,
      "outputs": [
        {
          "output_type": "stream",
          "name": "stdout",
          "text": [
            "\"Hello, World!\"\n",
            "The value of variable1 is 5 and the value of variable2 is 8.\n"
          ]
        }
      ]
    },
    {
      "cell_type": "markdown",
      "id": "c21ec108",
      "metadata": {
        "id": "c21ec108"
      },
      "source": [
        "\n",
        "### Exercise 7\n",
        "Print multiple variables each on their own line using a **single** print statement.\n"
      ]
    },
    {
      "cell_type": "code",
      "source": [
        "#Define multiple variables\n",
        "variable1 = 5\n",
        "variable2 = 8\n",
        "variable3 = 10\n",
        "\n",
        "#Print the variables each on their own line using one print statement\n",
        "print(str(variable1) + \"\\n\" + str(variable2) + \"\\n\" + str(variable3))"
      ],
      "metadata": {
        "id": "gq6QZ9Qiw3ur",
        "colab": {
          "base_uri": "https://localhost:8080/"
        },
        "outputId": "cec09b61-7fe1-429e-e28c-30fb1362c585"
      },
      "id": "gq6QZ9Qiw3ur",
      "execution_count": 51,
      "outputs": [
        {
          "output_type": "stream",
          "name": "stdout",
          "text": [
            "5\n",
            "8\n",
            "10\n"
          ]
        }
      ]
    },
    {
      "cell_type": "markdown",
      "id": "7cceefaf",
      "metadata": {
        "id": "7cceefaf"
      },
      "source": [
        "\n",
        "## Conclusion\n",
        "\n",
        "Reflect on what you've learned in this homework. What parts were easy for you? Which ones were challenging? Write a few sentences below.\n"
      ]
    },
    {
      "cell_type": "markdown",
      "source": [
        "In this homework, I learned about using various Python concepts, such as string manipulation, variable assignment, and basic arithmetic and logical operations. The parts that were easy for me included defining variables and using simple print statements, as I’m comfortable with basic Python syntax. However, I found it challenging to manipulate strings, particularly when formatting strings to include the values of variables without explicitly stating what they are, and using one print statement to print variables on their own lines.\n",
        "\n",
        "A specific challenge I faced was removing the substring \"first\" from the string \"This is my first string.\" The concepts we covered in class didn't directly address this task, so I wasn't initially sure how to approach it. Fortunately, I am also taking a foundations of data science course where I recently learned about the slicing method. I applied this knowledge by using slicing to manually remove \"first\" by selecting the parts of the string before and after the substring, then concatenating them to form the final result. This experience taught me the value of integrating concepts from different courses to solve problems, and it reinforced the usefulness of slicing for string manipulation.\n",
        "\n",
        "Overall, this assignment helped strengthen my understanding of basic Python operations and syntax nuances."
      ],
      "metadata": {
        "id": "alC8X7gpyFEZ"
      },
      "id": "alC8X7gpyFEZ"
    }
  ],
  "metadata": {
    "colab": {
      "provenance": [],
      "include_colab_link": true
    },
    "language_info": {
      "name": "python"
    },
    "kernelspec": {
      "name": "python3",
      "display_name": "Python 3"
    }
  },
  "nbformat": 4,
  "nbformat_minor": 5
}