{
  "nbformat": 4,
  "nbformat_minor": 0,
  "metadata": {
    "colab": {
      "provenance": [],
      "authorship_tag": "ABX9TyOBpH1LAVqs7NauE3CWikK5",
      "include_colab_link": true
    },
    "kernelspec": {
      "name": "python3",
      "display_name": "Python 3"
    },
    "language_info": {
      "name": "python"
    }
  },
  "cells": [
    {
      "cell_type": "markdown",
      "metadata": {
        "id": "view-in-github",
        "colab_type": "text"
      },
      "source": [
        "<a href=\"https://colab.research.google.com/github/arilaleh/python-learning-journal/blob/main/CIST5A_Lab2.ipynb\" target=\"_parent\"><img src=\"https://colab.research.google.com/assets/colab-badge.svg\" alt=\"Open In Colab\"/></a>"
      ]
    },
    {
      "cell_type": "code",
      "source": [
        "#Task 1: Kilometer to Mile Conversion (1pt)\n",
        "#Write a program that converts kilometers to miles.\n",
        "#The program should prompt the user to enter a distance in kilometers (via filling in an appropriately named variable) and then display the equivalent distance in miles.\n",
        "\n",
        "#This line prompts the user to enter a distance in kilometers and stores the response as a string.\n",
        "userResponse1 = input(\"Enter a distance in kilometers: \")\n",
        "\n",
        "# This converts the user's response from a string to a floating-point number representing kilometers.\n",
        "kilometer = float(userResponse1)\n",
        "\n",
        "#This converts the distance from kilometers to miles.\n",
        "miles = kilometer * 0.621371\n",
        "\n",
        "# This prints the distance in miles.\n",
        "print(miles)\n",
        "\n",
        "\n",
        "\n",
        "\n",
        "#Task 2: Celsius to Fahrenheit Conversion (2pts)\n",
        "#Write a program that converts temperatures from Celsius to Fahrenheit.\n",
        "#The program should prompt the user to enter a temperature in Celsius (again, via filling in an appropriately named variable) and then display the equivalent temperature in Fahrenheit.\n",
        "\n",
        "#This line prompts the user to enter a temperature in Celsius and store it as a string.\n",
        "userResponse2 = input(\"Enter a temperature in Celsius: \")\n",
        "\n",
        "#This converts the user's response from a string to a floating-point number representing Celsius.\n",
        "celsius = float(userResponse2)\n",
        "\n",
        "#This converts the temperature from Celsius to Fahrenheit.\n",
        "fahrenheit = (celsius * 9/5) + 32\n",
        "\n",
        "# This prints the temperature in Fahrenheit.\n",
        "print(fahrenheit)\n",
        "\n",
        "\n",
        "\n",
        "#Task 3: Binary to Decimal Converter (2pts)\n",
        "#Following the Binary to Decimal conversion formula we learned in class, convert `101101000` into decimal form and display it.\n",
        "#Enter the entire formula into python and have it perform the computation.\n",
        "\n",
        "# 101101000 = (1 * 2^8) + (0 * 2^7) + (1 * 2^6) + (1 * 2^5) + (0 * 2^4) + (1 * 2^3) + (0 * 2^2) + (0 * 2^1) + (0 * 2^0)\n",
        "#           = (256)     + (0)       + (64)      + (32)      + (0)       + (8)       + (0)       + (0)       + (0)\n",
        "#           = 360\n",
        "\n",
        "# This line converts `101101000`into decimal form\n",
        "decimalValue = (1 * 2**8) + (0 * 2**7) + (1 * 2**6) + (1 * 2**5) + (0 * 2**4) + (1 * 2**3) + (0 * 2**2) + (0 * 2**1) + (0 * 2**0)\n",
        "\n",
        "# This line displays the decimal form of `101101000`\n",
        "print(decimalValue)\n",
        "\n",
        "\n"
      ],
      "metadata": {
        "colab": {
          "base_uri": "https://localhost:8080/"
        },
        "id": "Rg9SXw-a9_nJ",
        "outputId": "f58bb289-a607-470b-8b6e-e5fefa81a3d4"
      },
      "execution_count": 12,
      "outputs": [
        {
          "output_type": "stream",
          "name": "stdout",
          "text": [
            "Enter a distance in kilometers: 10\n",
            "6.21371\n",
            "Enter a temperature in Celsius: 10\n",
            "50.0\n",
            "360\n"
          ]
        }
      ]
    }
  ]
}